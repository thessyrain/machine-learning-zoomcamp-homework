{
 "cells": [
  {
   "cell_type": "markdown",
   "id": "d6e0773a-dfd5-4ec4-9996-250626129006",
   "metadata": {},
   "source": [
    "Introduction to Pandas"
   ]
  },
  {
   "cell_type": "markdown",
   "id": "64c5d875-6e71-46ae-b2d6-1c1d121acf6b",
   "metadata": {},
   "source": [
    "Plan:\n",
    "\n",
    "1. Data Frames\n",
    "2. Series\n",
    "3. Index\n",
    "4. Accessing elements\n",
    "5. Element wise operations\n",
    "6. Flitering\n",
    "7. String Operations\n",
    "8. Summarizing operations\n",
    "9. Missing Values\n",
    "10. Grouping\n",
    "11. Getting the NumPy arrays "
   ]
  },
  {
   "cell_type": "code",
   "execution_count": null,
   "id": "fdfaa980-0905-4339-923b-d9355223b15f",
   "metadata": {},
   "outputs": [],
   "source": [
    "import numpy as np \n",
    "import pandas as pd\n"
   ]
  },
  {
   "cell_type": "code",
   "execution_count": null,
   "id": "7dd0642e-d1f2-4123-a8a9-5dadf82dd26b",
   "metadata": {},
   "outputs": [],
   "source": [
    "Dataframes "
   ]
  },
  {
   "cell_type": "code",
   "execution_count": null,
   "id": "6d6049c4-a1bf-4948-a5b6-990f7f47bc80",
   "metadata": {},
   "outputs": [],
   "source": []
  }
 ],
 "metadata": {
  "kernelspec": {
   "display_name": "Python 3 (ipykernel)",
   "language": "python",
   "name": "python3"
  },
  "language_info": {
   "codemirror_mode": {
    "name": "ipython",
    "version": 3
   },
   "file_extension": ".py",
   "mimetype": "text/x-python",
   "name": "python",
   "nbconvert_exporter": "python",
   "pygments_lexer": "ipython3",
   "version": "3.12.1"
  }
 },
 "nbformat": 4,
 "nbformat_minor": 5
}
